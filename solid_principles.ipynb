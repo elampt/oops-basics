{
 "cells": [
  {
   "cell_type": "markdown",
   "id": "4a242fe3",
   "metadata": {},
   "source": [
    "# SOLID Principles In Python\n",
    "\n",
    "SOLID talks about five core principles that intend to make software designs more flexible, understandable and maintainable. These principles are :\n",
    "\n",
    "1. Single Responsibility Principle\n",
    "\n",
    "2. Open Closed Principle\n",
    "\n",
    "3. Liskov Substitution Principle\n",
    "\n",
    "4. Interface Segregation Principle\n",
    "\n",
    "5. Dependency Inversion Principle "
   ]
  },
  {
   "cell_type": "markdown",
   "id": "f0b01bbe",
   "metadata": {},
   "source": [
    "## 1. Single Responsibility Principle\n",
    "\n",
    "A class should have only one responsibility (A class should have only one reason to change.)"
   ]
  },
  {
   "cell_type": "markdown",
   "id": "93e8585f",
   "metadata": {},
   "source": [
    "The following code violates SRP because the `TransactionManager` class is responsible for both generating transaction details and saving them to a database."
   ]
  },
  {
   "cell_type": "code",
   "execution_count": null,
   "id": "975e82eb",
   "metadata": {},
   "outputs": [],
   "source": [
    "class TransactionManager:\n",
    "    def generate_transaction(self):\n",
    "        # Code to generate transaction details\n",
    "        return {\"account\": \"123456\", \"amount\": 1000, \"type\": \"credit\"}\n",
    "\n",
    "    def save_transaction(self):\n",
    "        transaction = self.generate_transaction()\n",
    "        with db.session() as session:\n",
    "            session.insert(transaction)\n",
    "\n",
    "# Client code\n",
    "tm = TransactionManager()\n",
    "tm.save_transaction()"
   ]
  },
  {
   "cell_type": "markdown",
   "id": "8975be4a",
   "metadata": {},
   "source": [
    "**Refactored Example: Following SRP**\n",
    "\n",
    "We split the responsibilities into smaller classes: one for generating transaction details and another for saving them to the database."
   ]
  },
  {
   "cell_type": "code",
   "execution_count": null,
   "id": "bf9c0fc7",
   "metadata": {},
   "outputs": [],
   "source": [
    "class TransactionGenerator:\n",
    "    def generate(self):\n",
    "        # Code logic to generate transaction details\n",
    "        return {\"account\": \"123456\", \"amount\": 1000, \"type\": \"credit\"}\n",
    "\n",
    "class TransactionWriter:\n",
    "    def write(self, transaction):\n",
    "        with db.session() as session:\n",
    "            session.insert(transaction)\n",
    "\n",
    "class TransactionManager:\n",
    "    def __init__(self, generator: TransactionGenerator, writer: TransactionWriter):\n",
    "        self._generator = generator\n",
    "        self._writer = writer\n",
    "\n",
    "    def save_transaction(self):\n",
    "        transaction = self._generator.generate()\n",
    "        self._writer.write(transaction)\n",
    "\n",
    "# Client code\n",
    "tm = TransactionManager(TransactionGenerator(), TransactionWriter())\n",
    "tm.save_transaction()"
   ]
  },
  {
   "cell_type": "markdown",
   "id": "58bf7b19",
   "metadata": {},
   "source": [
    "**Benefits of the Refactored Code**\n",
    "\n",
    "1. Single Responsibility:\n",
    "`TransactionGenerator` is responsible for generating transaction details.\n",
    "`TransactionWriter` is responsible for saving transaction details to the database.\n",
    "\n",
    "2. Easier Maintenance: Changes to transaction generation or database logic can be made independently.\n",
    "\n",
    "3. Testability: Each class can be tested in isolation.\n",
    "\n",
    "This design adheres to the Single Responsibility Principle and ensures the code is modular, maintainable, and extensible."
   ]
  },
  {
   "cell_type": "markdown",
   "id": "deee41da",
   "metadata": {},
   "source": [
    "## 2. Open-Closed Principle (OCP)\n",
    "\n",
    "Software entities (classes, modules, functions, etc.) should be open for extension, but closed for modification.\n",
    "\n"
   ]
  },
  {
   "cell_type": "markdown",
   "id": "2475fb7a",
   "metadata": {},
   "source": [
    "The following code violates OCP because the TaxCalculator class needs to be modified every time a new tax type is added. We need to modify both the `__init__` and `calculate_tax` \n",
    "\n"
   ]
  },
  {
   "cell_type": "code",
   "execution_count": 1,
   "id": "53259146",
   "metadata": {},
   "outputs": [
    {
     "name": "stdout",
     "output_type": "stream",
     "text": [
      "10000.0\n",
      "20.0\n"
     ]
    }
   ],
   "source": [
    "class TaxCalculator:\n",
    "    def __init__(self, tax_type, **kwargs):\n",
    "        self.tax_type = tax_type\n",
    "        if self.tax_type == \"income_tax\":\n",
    "            self.income = kwargs[\"income\"]\n",
    "            self.rate = kwargs[\"rate\"]\n",
    "        elif self.tax_type == \"sales_tax\":\n",
    "            self.amount = kwargs[\"amount\"]\n",
    "            self.rate = kwargs[\"rate\"]\n",
    "\n",
    "    def calculate_tax(self):\n",
    "        if self.tax_type == \"income_tax\":\n",
    "            return self.income * self.rate\n",
    "        elif self.tax_type == \"sales_tax\":\n",
    "            return self.amount * self.rate\n",
    "\n",
    "# Example Usage\n",
    "income_tax = TaxCalculator(\"income_tax\", income=50000, rate=0.2)\n",
    "print(income_tax.calculate_tax())  # Output: 10000\n",
    "\n",
    "sales_tax = TaxCalculator(\"sales_tax\", amount=200, rate=0.1)\n",
    "print(sales_tax.calculate_tax())  # Output: 20"
   ]
  },
  {
   "cell_type": "markdown",
   "id": "64a6f016",
   "metadata": {},
   "source": [
    "**Refactored Example: Following OCP**\n",
    "\n",
    "We refactor the code by introducing an abstract base class Tax and creating separate classes for each tax type.\n",
    "\n"
   ]
  },
  {
   "cell_type": "code",
   "execution_count": 2,
   "id": "1d8434bd",
   "metadata": {},
   "outputs": [
    {
     "name": "stdout",
     "output_type": "stream",
     "text": [
      "10000.0\n",
      "20.0\n",
      "3000.0\n"
     ]
    }
   ],
   "source": [
    "from abc import ABC, abstractmethod\n",
    "\n",
    "# Abstract base class for Tax\n",
    "class Tax(ABC):\n",
    "    @abstractmethod\n",
    "    def calculate_tax(self):\n",
    "        pass\n",
    "\n",
    "# Concrete class for Income Tax\n",
    "class IncomeTax(Tax):\n",
    "    def __init__(self, income, rate):\n",
    "        self.income = income\n",
    "        self.rate = rate\n",
    "\n",
    "    def calculate_tax(self):\n",
    "        return self.income * self.rate\n",
    "\n",
    "# Concrete class for Sales Tax\n",
    "class SalesTax(Tax):\n",
    "    def __init__(self, amount, rate):\n",
    "        self.amount = amount\n",
    "        self.rate = rate\n",
    "\n",
    "    def calculate_tax(self):\n",
    "        return self.amount * self.rate\n",
    "\n",
    "# Concrete class for Property Tax\n",
    "class PropertyTax(Tax):\n",
    "    def __init__(self, property_value, rate):\n",
    "        self.property_value = property_value\n",
    "        self.rate = rate\n",
    "\n",
    "    def calculate_tax(self):\n",
    "        return self.property_value * self.rate\n",
    "\n",
    "# Example Usage\n",
    "income_tax = IncomeTax(income=50000, rate=0.2)\n",
    "print(income_tax.calculate_tax())  # Output: 10000\n",
    "\n",
    "sales_tax = SalesTax(amount=200, rate=0.1)\n",
    "print(sales_tax.calculate_tax())  # Output: 20\n",
    "\n",
    "property_tax = PropertyTax(property_value=300000, rate=0.01)\n",
    "print(property_tax.calculate_tax())  # Output: 3000"
   ]
  },
  {
   "cell_type": "markdown",
   "id": "c77c6d0b",
   "metadata": {},
   "source": [
    "## 3. Liskov Substitution Principle (LSP)\n",
    "\n",
    "> Subtypes must be substitutable for their base types."
   ]
  },
  {
   "cell_type": "markdown",
   "id": "ddc9876e",
   "metadata": {},
   "source": [
    "Let’s say we have a `BankAccount` class that represents a generic bank account. We then create a `SavingsAccount` class as a subclass of `BankAccount`. However, the `SavingsAccount` class overrides the behavior of the `withdraw` method in a way that violates the expectations of the base class."
   ]
  },
  {
   "cell_type": "code",
   "execution_count": null,
   "id": "c159bae8",
   "metadata": {},
   "outputs": [],
   "source": [
    "class BankAccount:\n",
    "    def __init__(self, balance):\n",
    "        self.balance = balance\n",
    "\n",
    "    def deposit(self, amount):\n",
    "        self.balance += amount\n",
    "\n",
    "    def withdraw(self, amount):\n",
    "        if amount > self.balance:\n",
    "            raise ValueError(\"Insufficient funds\")\n",
    "        self.balance -= amount\n",
    "\n",
    "class SavingsAccount(BankAccount):\n",
    "    def __init__(self, balance, withdrawal_limit):\n",
    "        super().__init__(balance)\n",
    "        self.withdrawal_limit = withdrawal_limit\n",
    "\n",
    "    def withdraw(self, amount):\n",
    "        if amount > self.withdrawal_limit:\n",
    "            raise ValueError(\"Withdrawal amount exceeds the limit\")\n",
    "        super().withdraw(amount)\n",
    "\n",
    "# Example Usage\n",
    "account = BankAccount(1000)\n",
    "account.withdraw(500)  # Works fine\n",
    "\n",
    "savings = SavingsAccount(1000, 300)\n",
    "savings.withdraw(500)  # Raises ValueError: Withdrawal amount exceeds the limit"
   ]
  },
  {
   "cell_type": "markdown",
   "id": "c5681020",
   "metadata": {},
   "source": [
    "**Refactored Example: Following LSP**\n",
    "\n",
    "To fix this, we can create a base class `Account` with a common interface and make `BankAccount` and `SavingsAccount` siblings rather than having a parent-child relationship."
   ]
  },
  {
   "cell_type": "code",
   "execution_count": 3,
   "id": "e03f9eb8",
   "metadata": {},
   "outputs": [
    {
     "name": "stdout",
     "output_type": "stream",
     "text": [
      "New balance: 500\n",
      "New balance: 800\n"
     ]
    }
   ],
   "source": [
    "from abc import ABC, abstractmethod\n",
    "\n",
    "class Account(ABC):\n",
    "    def __init__(self, balance):\n",
    "        self.balance = balance\n",
    "\n",
    "    @abstractmethod\n",
    "    def deposit(self, amount):\n",
    "        pass\n",
    "\n",
    "    @abstractmethod\n",
    "    def withdraw(self, amount):\n",
    "        pass\n",
    "\n",
    "class BankAccount(Account):\n",
    "    def deposit(self, amount):\n",
    "        self.balance += amount\n",
    "\n",
    "    def withdraw(self, amount):\n",
    "        if amount > self.balance:\n",
    "            raise ValueError(\"Insufficient funds\")\n",
    "        self.balance -= amount\n",
    "\n",
    "class SavingsAccount(Account):\n",
    "    def __init__(self, balance, withdrawal_limit):\n",
    "        super().__init__(balance)\n",
    "        self.withdrawal_limit = withdrawal_limit\n",
    "\n",
    "    def deposit(self, amount):\n",
    "        self.balance += amount\n",
    "\n",
    "    def withdraw(self, amount):\n",
    "        if amount > self.withdrawal_limit:\n",
    "            raise ValueError(\"Withdrawal amount exceeds the limit\")\n",
    "        if amount > self.balance:\n",
    "            raise ValueError(\"Insufficient funds\")\n",
    "        self.balance -= amount\n",
    "\n",
    "# Example Usage\n",
    "def process_withdrawal(account: Account, amount):\n",
    "    account.withdraw(amount)\n",
    "    print(f\"New balance: {account.balance}\")\n",
    "\n",
    "# Using BankAccount\n",
    "bank_account = BankAccount(1000)\n",
    "process_withdrawal(bank_account, 500)  # New balance: 500\n",
    "\n",
    "# Using SavingsAccount\n",
    "savings_account = SavingsAccount(1000, 300)\n",
    "process_withdrawal(savings_account, 200)  # New balance: 800"
   ]
  },
  {
   "cell_type": "markdown",
   "id": "bea9bceb",
   "metadata": {},
   "source": [
    "**Benefits**\n",
    "\n",
    "- **Substitutability**: Both BankAccount and SavingsAccount can be used wherever an Account is expected without breaking the code.\n",
    "\n",
    "- **Extensibility**: New account types can be added without modifying existing classes.\n",
    "\n",
    "- **Maintainability**: Each class has a clear and independent responsibility."
   ]
  },
  {
   "cell_type": "markdown",
   "id": "e8c19c57",
   "metadata": {},
   "source": [
    "## 4. Interface Segregation Principle (ISP)\n",
    "\n",
    "> No code should not be forced to depend on methods that they do not use."
   ]
  },
  {
   "cell_type": "markdown",
   "id": "9f1b23e8",
   "metadata": {},
   "source": [
    "Let’s say we have a `PaymentProcessor` class that provides methods for processing payments, refunds, and generating invoices. However, not all payment processors support all these functionalities. For example, some processors only handle payments, while others handle payments and refunds but not invoices.\n"
   ]
  },
  {
   "cell_type": "code",
   "execution_count": null,
   "id": "61ff88cf",
   "metadata": {},
   "outputs": [],
   "source": [
    "from abc import ABC, abstractmethod\n",
    "\n",
    "class PaymentProcessor(ABC):\n",
    "    @abstractmethod\n",
    "    def process_payment(self, amount):\n",
    "        pass\n",
    "\n",
    "    @abstractmethod\n",
    "    def process_refund(self, amount):\n",
    "        pass\n",
    "\n",
    "    @abstractmethod\n",
    "    def generate_invoice(self, transaction_id):\n",
    "        pass\n",
    "\n",
    "class BasicPaymentProcessor(PaymentProcessor):\n",
    "    def process_payment(self, amount):\n",
    "        print(f\"Processing payment of ${amount}...\")\n",
    "\n",
    "    def process_refund(self, amount):\n",
    "        raise NotImplementedError(\"Refund functionality not supported\")\n",
    "\n",
    "    def generate_invoice(self, transaction_id):\n",
    "        raise NotImplementedError(\"Invoice generation not supported\")\n",
    "\n",
    "class AdvancedPaymentProcessor(PaymentProcessor):\n",
    "    def process_payment(self, amount):\n",
    "        print(f\"Processing payment of ${amount}...\")\n",
    "\n",
    "    def process_refund(self, amount):\n",
    "        print(f\"Processing refund of ${amount}...\")\n",
    "\n",
    "    def generate_invoice(self, transaction_id):\n",
    "        print(f\"Generating invoice for transaction {transaction_id}...\")"
   ]
  },
  {
   "cell_type": "markdown",
   "id": "b56df3a5",
   "metadata": {},
   "source": [
    "**Refactored Example: Following ISP**\n",
    "\n",
    "To fix this, we can segregate the `PaymentProcessor` interface into smaller, more specific interfaces."
   ]
  },
  {
   "cell_type": "code",
   "execution_count": 4,
   "id": "a864ab5d",
   "metadata": {},
   "outputs": [],
   "source": [
    "from abc import ABC, abstractmethod\n",
    "\n",
    "# Separate interfaces for specific responsibilities\n",
    "class Payment(ABC):\n",
    "    @abstractmethod\n",
    "    def process_payment(self, amount):\n",
    "        pass\n",
    "\n",
    "class Refund(ABC):\n",
    "    @abstractmethod\n",
    "    def process_refund(self, amount):\n",
    "        pass\n",
    "\n",
    "class Invoice(ABC):\n",
    "    @abstractmethod\n",
    "    def generate_invoice(self, transaction_id):\n",
    "        pass\n",
    "\n",
    "# BasicPaymentProcessor only implements the Payment interface\n",
    "class BasicPaymentProcessor(Payment):\n",
    "    def process_payment(self, amount):\n",
    "        print(f\"Processing payment of ${amount}...\")\n",
    "\n",
    "# AdvancedPaymentProcessor implements all interfaces\n",
    "class AdvancedPaymentProcessor(Payment, Refund, Invoice):\n",
    "    def process_payment(self, amount):\n",
    "        print(f\"Processing payment of ${amount}...\")\n",
    "\n",
    "    def process_refund(self, amount):\n",
    "        print(f\"Processing refund of ${amount}...\")\n",
    "\n",
    "    def generate_invoice(self, transaction_id):\n",
    "        print(f\"Generating invoice for transaction {transaction_id}...\")"
   ]
  },
  {
   "cell_type": "code",
   "execution_count": 5,
   "id": "6cc71391",
   "metadata": {},
   "outputs": [
    {
     "name": "stdout",
     "output_type": "stream",
     "text": [
      "Processing payment of $100...\n",
      "Processing payment of $200...\n",
      "Processing refund of $50...\n",
      "Generating invoice for transaction TXN12345...\n"
     ]
    }
   ],
   "source": [
    "# Using BasicPaymentProcessor\n",
    "basic_processor = BasicPaymentProcessor()\n",
    "basic_processor.process_payment(100)  # Output: Processing payment of $100...\n",
    "\n",
    "# Using AdvancedPaymentProcessor\n",
    "advanced_processor = AdvancedPaymentProcessor()\n",
    "advanced_processor.process_payment(200)  # Output: Processing payment of $200...\n",
    "advanced_processor.process_refund(50)    # Output: Processing refund of $50...\n",
    "advanced_processor.generate_invoice(\"TXN12345\")  # Output: Generating invoice for transaction TXN12345..."
   ]
  },
  {
   "cell_type": "markdown",
   "id": "3b1d16d6",
   "metadata": {},
   "source": [
    "**Benefits**\n",
    "\n",
    "* **No Unused Methods:** Classes only implement the methods they need.\n",
    "\n",
    "* **Extensibility:** Adding new functionalities (e.g., RecurringPayment) doesn’t affect existing classes.\n",
    "\n",
    "* **Adherence to ISP:** Each interface has a single responsibility, and clients (classes) depend only on the interfaces they use."
   ]
  },
  {
   "cell_type": "markdown",
   "id": "3f1dd2e5",
   "metadata": {},
   "source": [
    "## 5. Dependency Inversion Principle (DIP)\n",
    "\n",
    "Abstractions should not depend upon details. Details should depend upon abstractions."
   ]
  },
  {
   "cell_type": "markdown",
   "id": "8a1bdcf2",
   "metadata": {},
   "source": [
    "Let’s say we have a `TransactionProcessor` class that processes transactions. It directly depends on a Database class to save transaction data. This creates tight coupling between `TransactionProcessor` and `Database`."
   ]
  },
  {
   "cell_type": "code",
   "execution_count": null,
   "id": "1ed705e1",
   "metadata": {},
   "outputs": [],
   "source": [
    "class TransactionProcessor:\n",
    "    def __init__(self):\n",
    "        self.database = Database()\n",
    "\n",
    "    def process_transaction(self, transaction):\n",
    "        self.database.save_transaction(transaction)\n",
    "\n",
    "class Database:\n",
    "    def save_transaction(self, transaction):\n",
    "        print(f\"Saving transaction to the database: {transaction}\")\n",
    "\n",
    "# Example Usage\n",
    "processor = TransactionProcessor()\n",
    "processor.process_transaction({\"account\": \"123456\", \"amount\": 1000, \"type\": \"credit\"})"
   ]
  },
  {
   "cell_type": "markdown",
   "id": "5eb9b7cb",
   "metadata": {},
   "source": [
    "**Refactored Example: Following DIP**\n",
    "\n",
    "To fix this, we introduce an abstraction (`TransactionStorage`) that `TransactionProcessor` depends on. Concrete implementations like `DatabaseStorage` and `FileStorage` will implement this abstraction"
   ]
  },
  {
   "cell_type": "code",
   "execution_count": 6,
   "id": "77b0e00f",
   "metadata": {},
   "outputs": [
    {
     "name": "stdout",
     "output_type": "stream",
     "text": [
      "Saving transaction to the database: {'account': '123456', 'amount': 1000, 'type': 'credit'}\n",
      "Saving transaction to a file: {'account': '123456', 'amount': 1000, 'type': 'credit'}\n"
     ]
    }
   ],
   "source": [
    "from abc import ABC, abstractmethod\n",
    "\n",
    "# Abstraction for transaction storage\n",
    "class TransactionStorage(ABC):\n",
    "    @abstractmethod\n",
    "    def save_transaction(self, transaction):\n",
    "        pass\n",
    "\n",
    "# Concrete implementation for database storage\n",
    "class DatabaseStorage(TransactionStorage):\n",
    "    def save_transaction(self, transaction):\n",
    "        print(f\"Saving transaction to the database: {transaction}\")\n",
    "\n",
    "# Concrete implementation for file storage\n",
    "class FileStorage(TransactionStorage):\n",
    "    def save_transaction(self, transaction):\n",
    "        print(f\"Saving transaction to a file: {transaction}\")\n",
    "\n",
    "# TransactionProcessor depends on the abstraction, not a concrete implementation\n",
    "class TransactionProcessor:\n",
    "    def __init__(self, storage: TransactionStorage):\n",
    "        self.storage = storage\n",
    "\n",
    "    def process_transaction(self, transaction):\n",
    "        self.storage.save_transaction(transaction)\n",
    "\n",
    "# Example Usage\n",
    "db_processor = TransactionProcessor(DatabaseStorage())\n",
    "db_processor.process_transaction({\"account\": \"123456\", \"amount\": 1000, \"type\": \"credit\"})\n",
    "# Output: Saving transaction to the database: {'account': '123456', 'amount': 1000, 'type': 'credit'}\n",
    "\n",
    "file_processor = TransactionProcessor(FileStorage())\n",
    "file_processor.process_transaction({\"account\": \"123456\", \"amount\": 1000, \"type\": \"credit\"})\n",
    "# Output: Saving transaction to a file: {'account': '123456', 'amount': 1000, 'type': 'credit'}"
   ]
  },
  {
   "cell_type": "markdown",
   "id": "50af3717",
   "metadata": {},
   "source": [
    "**Benefits**\n",
    "\n",
    "1. **Flexibility:** You can easily switch between different storage mechanisms (e.g., database, file, API) without modifying TransactionProcessor.\n",
    "\n",
    "2. **Extensibility:** Adding a new storage mechanism (e.g., cloud storage) only requires creating a new class that implements TransactionStorage.\n",
    "\n",
    "3. **Testability:** You can mock the TransactionStorage interface for unit testing TransactionProcessor."
   ]
  },
  {
   "cell_type": "markdown",
   "id": "03753a25",
   "metadata": {},
   "source": []
  }
 ],
 "metadata": {
  "kernelspec": {
   "display_name": "fastAPIlearn",
   "language": "python",
   "name": "python3"
  },
  "language_info": {
   "codemirror_mode": {
    "name": "ipython",
    "version": 3
   },
   "file_extension": ".py",
   "mimetype": "text/x-python",
   "name": "python",
   "nbconvert_exporter": "python",
   "pygments_lexer": "ipython3",
   "version": "3.10.15"
  }
 },
 "nbformat": 4,
 "nbformat_minor": 5
}
