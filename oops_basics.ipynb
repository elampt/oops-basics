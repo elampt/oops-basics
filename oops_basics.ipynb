{
 "cells": [
  {
   "cell_type": "markdown",
   "id": "4a2641b0",
   "metadata": {},
   "source": [
    "# OOPS\n",
    "\n",
    ">Object Oriented Programming enables us to build modular, maintainable and scalable applications.  "
   ]
  },
  {
   "cell_type": "markdown",
   "id": "8c18575f",
   "metadata": {},
   "source": [
    "## Python Class\n",
    "\n",
    "* A class is a collection of objects. Classes are blueprints for creating objects. A class defines a set of attributes and methods that the created objects (instances) can have.\n",
    "\n",
    "\n",
    "\n",
    "**Self Parameter**\n",
    "* self parameter is a reference to the current instance of the class. It allows us to access the attributes and methods of the object.\n",
    "\n",
    "**`__init__` Method**\n",
    "* `__init__` method is the constructor in Python, automatically called when a new object is created. It initializes the attributes of the class."
   ]
  },
  {
   "cell_type": "code",
   "execution_count": 21,
   "id": "2da8ba67",
   "metadata": {},
   "outputs": [],
   "source": [
    "class Car:\n",
    "    make = \"Volkswagen\"\n",
    "\n",
    "    def __init__(self, model, fuel_type):\n",
    "        self.model = model\n",
    "        self.fuel_type = fuel_type"
   ]
  },
  {
   "cell_type": "markdown",
   "id": "93d6fa3b",
   "metadata": {},
   "source": [
    "## Python Objects\n",
    "\n",
    "* An Object is an instance of a Class. It represents a specific implementation of the class and holds its own data.\n",
    "\n",
    "\n"
   ]
  },
  {
   "cell_type": "code",
   "execution_count": 22,
   "id": "87693e82",
   "metadata": {},
   "outputs": [
    {
     "name": "stdout",
     "output_type": "stream",
     "text": [
      "Tiguan\n",
      "Diesel\n",
      "Volkswagen\n"
     ]
    }
   ],
   "source": [
    "car1 = Car(\"Tiguan\", \"Diesel\")\n",
    "print(car1.model)  # Output: Taiguan\n",
    "print(car1.fuel_type)  # Output: Diesel\n",
    "print(car1.make)  # Output: Volkswagen"
   ]
  },
  {
   "cell_type": "code",
   "execution_count": 23,
   "id": "d62440bd",
   "metadata": {},
   "outputs": [
    {
     "name": "stdout",
     "output_type": "stream",
     "text": [
      "Volkswagen\n",
      "Golf\n",
      "Polo\n",
      "Diesel\n",
      "VW\n",
      "VW\n"
     ]
    }
   ],
   "source": [
    "car2 = Car(\"Golf\", \"Petrol\")\n",
    "car3 = Car(\"Polo\", \"Diesel\")\n",
    "\n",
    "# Access class and instance variables\n",
    "print(car2.make)  # (Class variable)\n",
    "print(car2.model)     # (Instance variable)\n",
    "print(car3.model)     # (Instance variable)\n",
    "\n",
    "# Modify instance variables\n",
    "car2.fuel_type = \"Diesel\"\n",
    "print(car2.fuel_type)     # (Updated instance variable)\n",
    "\n",
    "# Modify class variable\n",
    "Car.make = \"VW\"\n",
    "print(car2.make)  # (Updated class variable)\n",
    "print(car3.make)  "
   ]
  },
  {
   "cell_type": "markdown",
   "id": "a746c56b",
   "metadata": {},
   "source": [
    "## Python Inheritence\n",
    "\n",
    "Inheritance allows a class (child class) to acquire properties and methods of another class (parent class). It supports hierarchical classification and promotes code reuse.\n",
    "\n",
    "**Types of Inheritance:**\n",
    "1. **Single Inheritance:** A child class inherits from a single parent class.\n",
    "\n",
    "2. **Multiple Inheritance:** A child class inherits from more than one parent class.\n",
    "\n",
    "3. **Multilevel Inheritance:** A child class inherits from a parent class, which in turn inherits from another class.\n",
    "\n",
    "4. **Hierarchical Inheritance:** Multiple child classes inherit from a single parent class.\n",
    "\n",
    "5. **Hybrid Inheritance:** A combination of two or more types of inheritance."
   ]
  },
  {
   "cell_type": "code",
   "execution_count": 6,
   "id": "aae58ae5",
   "metadata": {},
   "outputs": [
    {
     "name": "stdout",
     "output_type": "stream",
     "text": [
      "Model: Tesla Model 3, Fuel Type: Electric\n",
      "Tesla Model 3 has a battery capacity of 75 kWh\n",
      "Model: Tesla Model X, Fuel Type: Electric\n",
      "Tesla Model X supports autopilot mode!\n",
      "Model: Lucid Air, Fuel Type: Electric\n",
      "Includes premium leather seats and advanced sound system!\n",
      "Lucid Air has a battery capacity of 100 kWh\n"
     ]
    }
   ],
   "source": [
    "# Single Inheritance\n",
    "class Car:\n",
    "    def __init__(self, model, fuel_type):\n",
    "        self.model = model\n",
    "        self.fuel_type = fuel_type\n",
    "\n",
    "    def display_details(self):\n",
    "        print(f\"Model: {self.model}, Fuel Type: {self.fuel_type}\")\n",
    "\n",
    "class ElectricCar(Car):  # Single Inheritance\n",
    "    def battery_capacity(self, capacity):\n",
    "        print(f\"{self.model} has a battery capacity of {capacity} kWh\")\n",
    "\n",
    "# Multilevel Inheritance\n",
    "class SelfDrivingCar(ElectricCar):  # Multilevel Inheritance\n",
    "    def autopilot(self):\n",
    "        print(f\"{self.model} supports autopilot mode!\")\n",
    "\n",
    "# Multiple Inheritance\n",
    "class LuxuryFeatures:\n",
    "    def luxury_package(self):\n",
    "        print(\"Includes premium leather seats and advanced sound system!\")\n",
    "\n",
    "class LuxuryElectricCar(ElectricCar, LuxuryFeatures):  # Multiple Inheritance\n",
    "    def display_luxury(self):\n",
    "        print(f\"{self.model} is a luxury electric car!\")\n",
    "\n",
    "# Example Usage\n",
    "car1 = ElectricCar(\"Tesla Model 3\", \"Electric\")\n",
    "car1.display_details()\n",
    "car1.battery_capacity(75)\n",
    "\n",
    "car2 = SelfDrivingCar(\"Tesla Model X\", \"Electric\")\n",
    "car2.display_details()\n",
    "car2.autopilot()\n",
    "\n",
    "car3 = LuxuryElectricCar(\"Lucid Air\", \"Electric\")\n",
    "car3.display_details()\n",
    "car3.luxury_package()\n",
    "car3.battery_capacity(100)"
   ]
  },
  {
   "cell_type": "markdown",
   "id": "1737207d",
   "metadata": {},
   "source": [
    "## Python Polymorphism\n",
    "\n",
    "Polymorphism allows methods to have the same name but behave differently based on the object’s context. It can be achieved through method overriding or overloading.\n",
    "\n",
    "**Types of Polymorphism**\n",
    "1. **Compile-Time Polymorphism:** This type of polymorphism is determined during the compilation of the program. It allows methods or operators with the same name to behave differently based on their input parameters or usage. It is commonly referred to as method or operator overloading.\n",
    "\n",
    "2. **Run-Time Polymorphism:** This type of polymorphism is determined during the execution of the program. It occurs when a subclass provides a specific implementation for a method already defined in its parent class, commonly known as method overriding."
   ]
  },
  {
   "cell_type": "code",
   "execution_count": 7,
   "id": "72a67789",
   "metadata": {},
   "outputs": [
    {
     "name": "stdout",
     "output_type": "stream",
     "text": [
      "Fuel efficiency varies by car type.\n",
      "Electric cars have high efficiency and no fuel consumption.\n",
      "Diesel cars have moderate fuel efficiency.\n",
      "23000\n",
      "22000\n"
     ]
    }
   ],
   "source": [
    "# Parent Class\n",
    "class Car:\n",
    "    def fuel_efficiency(self):\n",
    "        print(\"Fuel efficiency varies by car type.\")  # Default implementation\n",
    "\n",
    "# Run-Time Polymorphism: Method Overriding\n",
    "class ElectricCar(Car):\n",
    "    def fuel_efficiency(self):\n",
    "        print(\"Electric cars have high efficiency and no fuel consumption.\")  # Overriding parent method\n",
    "\n",
    "class DieselCar(Car):\n",
    "    def fuel_efficiency(self):\n",
    "        print(\"Diesel cars have moderate fuel efficiency.\")  # Overriding parent method\n",
    "\n",
    "# Compile-Time Polymorphism: Method Overloading Mimic\n",
    "class CarPriceCalculator:\n",
    "    def calculate_price(self, base_price, tax=0, discount=0):\n",
    "        return base_price + tax - discount  # Supports multiple ways to call calculate_price()\n",
    "\n",
    "# Run-Time Polymorphism\n",
    "cars = [Car(), ElectricCar(), DieselCar()]\n",
    "for car in cars:\n",
    "    car.fuel_efficiency()  # Calls the appropriate method based on the object type\n",
    "\n",
    "# Compile-Time Polymorphism (Mimicked using default arguments)\n",
    "price_calculator = CarPriceCalculator()\n",
    "print(price_calculator.calculate_price(20000, 3000))  # Two arguments\n",
    "print(price_calculator.calculate_price(20000, 3000, 1000))  # Three arguments"
   ]
  },
  {
   "cell_type": "markdown",
   "id": "a78d204a",
   "metadata": {},
   "source": [
    "# Python Encapsulation\n",
    "\n",
    "Encapsulation is the bundling of data (attributes) and methods (functions) within a class, restricting access to some components to control interactions.\n",
    "\n",
    "A class is an example of encapsulation as it encapsulates all the data that is member functions, variables, etc.\n",
    "\n",
    "**Types of Encapsulation:**\n",
    "1. **Public Members:** Accessible from anywhere.\n",
    "\n",
    "2. **Protected Members:** Accessible within the class and its subclasses.\n",
    "\n",
    "3. **Private Members:** Accessible only within the class."
   ]
  },
  {
   "cell_type": "code",
   "execution_count": 8,
   "id": "3c439b0c",
   "metadata": {},
   "outputs": [
    {
     "name": "stdout",
     "output_type": "stream",
     "text": [
      "Volkswagen Tiguan\n",
      "Petrol\n",
      "2020\n",
      "Model: Volkswagen Tiguan, Fuel Type: Petrol, Year: 2023\n"
     ]
    }
   ],
   "source": [
    "class Car:\n",
    "    def __init__(self, model, fuel_type, year):\n",
    "        self.model = model  # Public attribute\n",
    "        self._fuel_type = fuel_type  # Protected attribute\n",
    "        self.__year = year  # Private attribute\n",
    "\n",
    "    # Public method\n",
    "    def get_info(self):\n",
    "        return f\"Model: {self.model}, Fuel Type: {self._fuel_type}, Year: {self.__year}\"\n",
    "\n",
    "    # Getter and Setter for private attribute\n",
    "    def get_year(self):\n",
    "        return self.__year\n",
    "\n",
    "    def set_year(self, year):\n",
    "        if year > 1885:  # Cars were invented after 1885\n",
    "            self.__year = year\n",
    "        else:\n",
    "            print(\"Invalid year!\")\n",
    "\n",
    "# Example Usage\n",
    "car = Car(\"Volkswagen Tiguan\", \"Petrol\", 2020)\n",
    "\n",
    "# Accessing public member\n",
    "print(car.model)  # Accessible\n",
    "\n",
    "# Accessing protected member\n",
    "print(car._fuel_type)  # Accessible but discouraged outside the class\n",
    "\n",
    "# Accessing private member using getter\n",
    "print(car.get_year())\n",
    "\n",
    "# Modifying private member using setter\n",
    "car.set_year(2023)\n",
    "print(car.get_info())"
   ]
  },
  {
   "cell_type": "markdown",
   "id": "83cfab3e",
   "metadata": {},
   "source": [
    "## Data Abstraction \n",
    "\n",
    "Abstraction hides the internal implementation details while exposing only the necessary functionality. It helps focus on “what to do” rather than “how to do it.”\n",
    "\n",
    "**Types of Abstraction:**\n",
    "1. **Partial Abstraction:** Abstract class contains both abstract and concrete methods.\n",
    "\n",
    "2. **Full Abstraction:** Abstract class contains only abstract methods (like interfaces)."
   ]
  },
  {
   "cell_type": "code",
   "execution_count": 10,
   "id": "54df7f6e",
   "metadata": {},
   "outputs": [
    {
     "name": "stdout",
     "output_type": "stream",
     "text": [
      "Car Model: Tesla Model 3\n",
      "Tesla Model 3 has high fuel efficiency with no fuel consumption.\n",
      "Car Model: Volkswagen Passat\n",
      "Volkswagen Passat has moderate fuel efficiency.\n"
     ]
    }
   ],
   "source": [
    "from abc import ABC, abstractmethod\n",
    "\n",
    "class Car(ABC):  # Abstract Class\n",
    "    def __init__(self, model):\n",
    "        self.model = model\n",
    "\n",
    "    @abstractmethod\n",
    "    def fuel_efficiency(self):  # Abstract Method\n",
    "        pass\n",
    "\n",
    "    def display_model(self):  # Concrete Method\n",
    "        print(f\"Car Model: {self.model}\")\n",
    "\n",
    "class ElectricCar(Car):  # Partial Abstraction\n",
    "    def fuel_efficiency(self):\n",
    "        print(f\"{self.model} has high fuel efficiency with no fuel consumption.\")\n",
    "\n",
    "class DieselCar(Car):  # Partial Abstraction\n",
    "    def fuel_efficiency(self):\n",
    "        print(f\"{self.model} has moderate fuel efficiency.\")\n",
    "\n",
    "# Example Usage\n",
    "cars = [ElectricCar(\"Tesla Model 3\"), DieselCar(\"Volkswagen Passat\")]\n",
    "for car in cars:\n",
    "    car.display_model()  # Calls concrete method\n",
    "    car.fuel_efficiency()  # Calls implemented abstract method"
   ]
  }
 ],
 "metadata": {
  "kernelspec": {
   "display_name": "fastAPIlearn",
   "language": "python",
   "name": "python3"
  },
  "language_info": {
   "codemirror_mode": {
    "name": "ipython",
    "version": 3
   },
   "file_extension": ".py",
   "mimetype": "text/x-python",
   "name": "python",
   "nbconvert_exporter": "python",
   "pygments_lexer": "ipython3",
   "version": "3.10.15"
  }
 },
 "nbformat": 4,
 "nbformat_minor": 5
}
